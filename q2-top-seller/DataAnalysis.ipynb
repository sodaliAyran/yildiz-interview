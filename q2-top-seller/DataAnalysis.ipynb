{
 "cells": [
  {
   "cell_type": "code",
   "execution_count": 227,
   "metadata": {},
   "outputs": [],
   "source": [
    "import pandas as pd"
   ]
  },
  {
   "cell_type": "code",
   "execution_count": 228,
   "metadata": {},
   "outputs": [],
   "source": [
    "product = pd.read_csv(\"product.csv\", dtype={'id': 'int', 'name': 'str', 'brand': 'str'})\n",
    "sales = pd.read_csv(\"sales.csv\", dtype={'product': 'int', 'store': 'int', 'quantity': 'int'}, parse_dates=['date'])\n",
    "store = pd.read_csv(\"store.csv\", dtype={'id': 'int', 'name': 'str', 'city': 'str'})"
   ]
  },
  {
   "cell_type": "code",
   "execution_count": 229,
   "metadata": {},
   "outputs": [
    {
     "name": "stdout",
     "output_type": "stream",
     "text": [
      "<class 'pandas.core.frame.DataFrame'>\n",
      "RangeIndex: 50 entries, 0 to 49\n",
      "Data columns (total 4 columns):\n",
      " #   Column    Non-Null Count  Dtype         \n",
      "---  ------    --------------  -----         \n",
      " 0   date      50 non-null     datetime64[ns]\n",
      " 1   product   50 non-null     int64         \n",
      " 2   store     50 non-null     int64         \n",
      " 3   quantity  50 non-null     int64         \n",
      "dtypes: datetime64[ns](1), int64(3)\n",
      "memory usage: 1.7 KB\n"
     ]
    }
   ],
   "source": [
    "sales.info()"
   ]
  },
  {
   "cell_type": "code",
   "execution_count": 230,
   "metadata": {},
   "outputs": [],
   "source": [
    "import heapq"
   ]
  },
  {
   "cell_type": "code",
   "execution_count": 231,
   "metadata": {},
   "outputs": [],
   "source": [
    "mask = (sales['date'] > '2020-02-01') & (sales['date'] <= '2020-06-30')\n",
    "sales = sales.loc[mask]\n",
    "\n",
    "product_sales = pd.merge(product, sales, left_on=['id'], right_on=['product'])\n",
    "store_sales = pd.merge(store, sales, left_on=['id'], right_on=['store'])\n"
   ]
  },
  {
   "cell_type": "code",
   "execution_count": 232,
   "metadata": {},
   "outputs": [],
   "source": [
    "def return_result_to_string(df, row_name, top):\n",
    "    df = df.groupby([row_name])[['quantity']].agg('sum').reset_index()\n",
    "    return df[df.quantity.isin(heapq.nlargest(top, df.quantity))].sort_values(by=['quantity'], \n",
    "                                                                              ascending=False)[[row_name, 'quantity']].to_string(index=False)\n",
    "def get_top_seller_product(product_sales, top):\n",
    "    print(\"-- top seller product --\")\n",
    "    print(return_result_to_string(df=product_sales, row_name='name', top=top))\n",
    "    \n",
    "def get_top_seller_store(store_sales, top):\n",
    "    print(\"-- top seller store --\")\n",
    "    print(return_result_to_string(df=store_sales, row_name='name', top=top))\n",
    "\n",
    "def get_top_seller_brand(product_sales, top):\n",
    "    print(\"-- top seller brand --\")\n",
    "    print(return_result_to_string(df=product_sales, row_name='brand', top=top))\n",
    "\n",
    "def get_top_seller_city(store_sales, top):\n",
    "    print(\"-- top seller city --\")\n",
    "    print(return_result_to_string(df=store_sales, row_name='city', top=top))\n"
   ]
  },
  {
   "cell_type": "code",
   "execution_count": 233,
   "metadata": {},
   "outputs": [
    {
     "name": "stdout",
     "output_type": "stream",
     "text": [
      "-- top seller product --\n",
      "  name  quantity\n",
      " p-103        33\n",
      " p-102        24\n",
      " p-110        24\n",
      "-- top seller store --\n",
      "name  quantity\n",
      " s-3        42\n",
      " s-2        36\n",
      " s-7        36\n",
      "-- top seller brand --\n",
      "    brand  quantity\n",
      " yoyodyne        92\n",
      "     acme        65\n",
      "-- top seller city --\n",
      "      city  quantity\n",
      "    gotham       100\n",
      " coruscant        78\n"
     ]
    }
   ],
   "source": [
    "get_top_seller_product(product_sales, 2)\n",
    "get_top_seller_store(store_sales, 2)\n",
    "get_top_seller_brand(product_sales, 2)\n",
    "get_top_seller_city(store_sales, 2)"
   ]
  },
  {
   "cell_type": "code",
   "execution_count": null,
   "metadata": {},
   "outputs": [],
   "source": []
  }
 ],
 "metadata": {
  "kernelspec": {
   "display_name": "Python 3",
   "language": "python",
   "name": "python3"
  },
  "language_info": {
   "codemirror_mode": {
    "name": "ipython",
    "version": 3
   },
   "file_extension": ".py",
   "mimetype": "text/x-python",
   "name": "python",
   "nbconvert_exporter": "python",
   "pygments_lexer": "ipython3",
   "version": "3.8.5"
  }
 },
 "nbformat": 4,
 "nbformat_minor": 4
}
